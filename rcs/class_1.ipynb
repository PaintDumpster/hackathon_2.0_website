{
 "cells": [
  {
   "cell_type": "markdown",
   "id": "f2240d38",
   "metadata": {},
   "source": [
    "# build a server!"
   ]
  },
  {
   "cell_type": "markdown",
   "id": "b79a06cc",
   "metadata": {},
   "source": [
    "build a community platform were users of our plugin can upload their models and download others peoples models.\n",
    "the website should be able to host the models."
   ]
  }
 ],
 "metadata": {
  "language_info": {
   "name": "python"
  }
 },
 "nbformat": 4,
 "nbformat_minor": 5
}
