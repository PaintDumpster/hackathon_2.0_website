{
 "cells": [
  {
   "cell_type": "markdown",
   "id": "f2240d38",
   "metadata": {},
   "source": [
    "# BUILD A SERVER!"
   ]
  },
  {
   "cell_type": "markdown",
   "id": "b79a06cc",
   "metadata": {},
   "source": [
    "build a community platform were users of our plugin can upload their models and download others peoples models.<br>\n",
    "\n",
    "the website should be able to host the models.<br>\n",
    "\n",
    "should be able to have a history of editing of models.<br>\n",
    "\n",
    "user metrics.<br>\n",
    "\n",
    "mayyyybe host the nn that we use to generate the models (like meshy).<br>"
   ]
  },
  {
   "cell_type": "markdown",
   "id": "98c234d3",
   "metadata": {},
   "source": [
    "today we need to create the endpoints"
   ]
  },
  {
   "cell_type": "markdown",
   "id": "65d3bcd4",
   "metadata": {},
   "source": [
    "## GENERAL IMPORTS"
   ]
  },
  {
   "cell_type": "code",
   "execution_count": null,
   "id": "3be85a6d",
   "metadata": {},
   "outputs": [],
   "source": [
    "%conda install flask\n",
    "%conda install flask-cors"
   ]
  },
  {
   "cell_type": "code",
   "execution_count": null,
   "id": "2846455a",
   "metadata": {},
   "outputs": [],
   "source": [
    "from flask import Flask, request, jsonify\n",
    "from flask_cors import CORS\n",
    "import os\n",
    "import json"
   ]
  },
  {
   "cell_type": "markdown",
   "id": "606f7f0e",
   "metadata": {},
   "source": [
    "# GET"
   ]
  },
  {
   "cell_type": "markdown",
   "id": "9268d5c3",
   "metadata": {},
   "source": [
    "### NOTES"
   ]
  },
  {
   "cell_type": "markdown",
   "id": "67e19f48",
   "metadata": {},
   "source": [
    "### CODE"
   ]
  },
  {
   "cell_type": "code",
   "execution_count": null,
   "id": "55c11107",
   "metadata": {},
   "outputs": [],
   "source": [
    "## CODE"
   ]
  },
  {
   "cell_type": "markdown",
   "id": "5578ab02",
   "metadata": {},
   "source": [
    "# POST"
   ]
  },
  {
   "cell_type": "markdown",
   "id": "f11d4863",
   "metadata": {},
   "source": [
    "### NOTES"
   ]
  },
  {
   "cell_type": "markdown",
   "id": "36cab491",
   "metadata": {},
   "source": [
    "### CODE"
   ]
  },
  {
   "cell_type": "code",
   "execution_count": null,
   "id": "b24f4311",
   "metadata": {},
   "outputs": [],
   "source": [
    "## CODE"
   ]
  },
  {
   "cell_type": "markdown",
   "id": "783bf062",
   "metadata": {},
   "source": [
    "# DYNAMIC"
   ]
  },
  {
   "cell_type": "markdown",
   "id": "d2f39f23",
   "metadata": {},
   "source": [
    "### NOTES"
   ]
  },
  {
   "cell_type": "markdown",
   "id": "b571ab6b",
   "metadata": {},
   "source": [
    "### CODE"
   ]
  },
  {
   "cell_type": "code",
   "execution_count": null,
   "id": "197cae1f",
   "metadata": {},
   "outputs": [],
   "source": [
    "## CODE"
   ]
  }
 ],
 "metadata": {
  "kernelspec": {
   "display_name": ".hackathon_4_env",
   "language": "python",
   "name": "python3"
  },
  "language_info": {
   "name": "python",
   "version": "3.13.2"
  }
 },
 "nbformat": 4,
 "nbformat_minor": 5
}
