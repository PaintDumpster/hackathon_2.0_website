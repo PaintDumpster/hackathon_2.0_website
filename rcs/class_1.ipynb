{
 "cells": [
  {
   "cell_type": "markdown",
   "id": "f2240d38",
   "metadata": {},
   "source": [
    "# build a server!"
   ]
  }
 ],
 "metadata": {
  "language_info": {
   "name": "python"
  }
 },
 "nbformat": 4,
 "nbformat_minor": 5
}
