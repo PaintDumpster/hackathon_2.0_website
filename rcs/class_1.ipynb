{
 "cells": [
  {
   "cell_type": "markdown",
   "id": "f2240d38",
   "metadata": {},
   "source": [
    "# build a server!"
   ]
  },
  {
   "cell_type": "markdown",
   "id": "b79a06cc",
   "metadata": {},
   "source": [
    "build a community platform were users of our plugin can upload their models and download others peoples models.<br>\n",
    "\n",
    "the website should be able to host the models.<br>\n",
    "\n",
    "should be able to have a history of editing of models.<br>\n",
    "\n",
    "user metrics.<br>\n",
    "\n",
    "mayyyybe host the nn that we use to generate the models (like meshy).<br>"
   ]
  }
 ],
 "metadata": {
  "language_info": {
   "name": "python"
  }
 },
 "nbformat": 4,
 "nbformat_minor": 5
}
